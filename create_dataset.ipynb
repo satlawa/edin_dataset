{
 "cells": [
  {
   "cell_type": "code",
   "execution_count": 1,
   "metadata": {},
   "outputs": [],
   "source": [
    "from DatasetCreation import DatasetCreation\n",
    "import numpy as np"
   ]
  },
  {
   "cell_type": "code",
   "execution_count": 2,
   "metadata": {},
   "outputs": [],
   "source": [
    "dsc = DatasetCreation('/media/philipp/DATA/2018_tamsweg/')"
   ]
  },
  {
   "cell_type": "code",
   "execution_count": 3,
   "metadata": {},
   "outputs": [
    {
     "data": {
      "text/plain": [
       "'/media/philipp/DATA/2018_bischofshofen/'"
      ]
     },
     "execution_count": 3,
     "metadata": {},
     "output_type": "execute_result"
    }
   ],
   "source": [
    "# set input data directory containing the preprocessed data\n",
    "dsc.set_input_dir('/media/philipp/DATA/2018_bischofshofen/')\n",
    "# check for correctness\n",
    "dsc.path_dir"
   ]
  },
  {
   "cell_type": "code",
   "execution_count": 4,
   "metadata": {},
   "outputs": [
    {
     "data": {
      "text/plain": [
       "{'ortho': {'dtype': numpy.uint8, 'dim': 4},\n",
       " 'dsm': {'dtype': numpy.float16, 'dim': 1},\n",
       " 'dtm': {'dtype': numpy.float16, 'dim': 1},\n",
       " 'slope': {'dtype': numpy.float16, 'dim': 1},\n",
       " 'ground_truth': {'dtype': numpy.uint8, 'dim': 1}}"
      ]
     },
     "execution_count": 4,
     "metadata": {},
     "output_type": "execute_result"
    }
   ],
   "source": [
    "data_dic = {'ortho':{'dtype':np.uint8, 'dim':4}, \\\n",
    "              'dsm':{'dtype':np.float16, 'dim':1}, \\\n",
    "              'dtm':{'dtype':np.float16, 'dim':1}, \\\n",
    "              'slope':{'dtype':np.float16, 'dim':1}, \\\n",
    "              'ground_truth':{'dtype':np.uint8, 'dim':1}}\n",
    "\n",
    "# set data types to be included\n",
    "dsc.set_data_types(data_dic)\n",
    "# check for correctness\n",
    "dsc.data_dic"
   ]
  },
  {
   "cell_type": "code",
   "execution_count": 5,
   "metadata": {},
   "outputs": [
    {
     "data": {
      "text/plain": [
       "'/media/philipp/DATA/dataset/dataset_256_df_1.h5'"
      ]
     },
     "execution_count": 5,
     "metadata": {},
     "output_type": "execute_result"
    }
   ],
   "source": [
    "## create new file\n",
    "# set output path\n",
    "#path_file = \"/media/philipp/DATA/dataset/dataset_256_df_1.h5\"\n",
    "# create hdf5 file\n",
    "#dsc.create_hdf5(path_file, tile_size=256, dataset_size=75000)\n",
    "\n",
    "# set output path\n",
    "path_hdf5 = '/media/philipp/DATA/dataset/dataset_256_df_1.h5'\n",
    "# set hdf5 file\n",
    "dsc.set_hdf5(path_hdf5)\n",
    "# check for correctness\n",
    "dsc.path_hdf5"
   ]
  },
  {
   "cell_type": "code",
   "execution_count": 6,
   "metadata": {
    "scrolled": true
   },
   "outputs": [
    {
     "name": "stdout",
     "output_type": "stream",
     "text": [
      "0 1000\n",
      "(1000, 512, 512, 4)\n",
      "(1000, 512, 512, 1)\n",
      "(1000, 512, 512, 1)\n",
      "(1000, 512, 512, 1)\n",
      "(1000, 512, 512, 1)\n",
      "43157\n",
      "1000 2000\n",
      "(1000, 512, 512, 4)\n",
      "(1000, 512, 512, 1)\n",
      "(1000, 512, 512, 1)\n",
      "(1000, 512, 512, 1)\n",
      "(1000, 512, 512, 1)\n",
      "47017\n",
      "2000 3000\n",
      "(1000, 512, 512, 4)\n",
      "(1000, 512, 512, 1)\n",
      "(1000, 512, 512, 1)\n",
      "(1000, 512, 512, 1)\n",
      "(1000, 512, 512, 1)\n",
      "50869\n",
      "3000 4000\n",
      "(1000, 512, 512, 4)\n",
      "(1000, 512, 512, 1)\n",
      "(1000, 512, 512, 1)\n",
      "(1000, 512, 512, 1)\n",
      "(1000, 512, 512, 1)\n",
      "54722\n",
      "4000 5000\n",
      "(1000, 512, 512, 4)\n",
      "(1000, 512, 512, 1)\n",
      "(1000, 512, 512, 1)\n",
      "(1000, 512, 512, 1)\n",
      "(1000, 512, 512, 1)\n",
      "58593\n",
      "5000 6000\n",
      "(1000, 512, 512, 4)\n",
      "(1000, 512, 512, 1)\n",
      "(1000, 512, 512, 1)\n",
      "(1000, 512, 512, 1)\n",
      "(1000, 512, 512, 1)\n",
      "62452\n",
      "6000 7000\n",
      "(1000, 512, 512, 4)\n",
      "(1000, 512, 512, 1)\n",
      "(1000, 512, 512, 1)\n",
      "(1000, 512, 512, 1)\n",
      "(1000, 512, 512, 1)\n",
      "66312\n",
      "7000 8000\n",
      "(1000, 512, 512, 4)\n",
      "(1000, 512, 512, 1)\n",
      "(1000, 512, 512, 1)\n",
      "(1000, 512, 512, 1)\n",
      "(1000, 512, 512, 1)\n",
      "70176\n",
      "8000 9000\n",
      "(1000, 512, 512, 4)\n",
      "(1000, 512, 512, 1)\n",
      "(1000, 512, 512, 1)\n",
      "(1000, 512, 512, 1)\n",
      "(1000, 512, 512, 1)\n",
      "74038\n",
      "9000 9135\n"
     ]
    },
    {
     "ename": "NameError",
     "evalue": "name 'dsc' is not defined",
     "output_type": "error",
     "traceback": [
      "\u001b[0;31m---------------------------------------------------------------------------\u001b[0m",
      "\u001b[0;31mNameError\u001b[0m                                 Traceback (most recent call last)",
      "\u001b[0;32m<ipython-input-6-5b2392827d2c>\u001b[0m in \u001b[0;36m<module>\u001b[0;34m\u001b[0m\n\u001b[0;32m----> 1\u001b[0;31m \u001b[0mdsc\u001b[0m\u001b[0;34m.\u001b[0m\u001b[0madd_dataset_to_hdf5\u001b[0m\u001b[0;34m(\u001b[0m\u001b[0mblock_size\u001b[0m\u001b[0;34m=\u001b[0m\u001b[0;36m1000\u001b[0m\u001b[0;34m,\u001b[0m \u001b[0mstart_index\u001b[0m\u001b[0;34m=\u001b[0m\u001b[0;36m39280\u001b[0m\u001b[0;34m)\u001b[0m\u001b[0;34m\u001b[0m\u001b[0;34m\u001b[0m\u001b[0m\n\u001b[0m",
      "\u001b[0;32m~/Code/python/edin_dataset/DatasetCreation.py\u001b[0m in \u001b[0;36madd_dataset_to_hdf5\u001b[0;34m(self, block_size, start_index)\u001b[0m\n\u001b[1;32m     87\u001b[0m \u001b[0;34m\u001b[0m\u001b[0m\n\u001b[1;32m     88\u001b[0m             \u001b[0mprint\u001b[0m\u001b[0;34m(\u001b[0m\u001b[0mblock_size\u001b[0m\u001b[0;34m*\u001b[0m\u001b[0;34m(\u001b[0m\u001b[0mi\u001b[0m\u001b[0;34m+\u001b[0m\u001b[0;36m1\u001b[0m\u001b[0;34m)\u001b[0m\u001b[0;34m,\u001b[0m \u001b[0mblock_size\u001b[0m\u001b[0;34m*\u001b[0m\u001b[0;34m(\u001b[0m\u001b[0mi\u001b[0m\u001b[0;34m+\u001b[0m\u001b[0;36m1\u001b[0m\u001b[0;34m)\u001b[0m \u001b[0;34m+\u001b[0m \u001b[0mds_size\u001b[0m \u001b[0;34m%\u001b[0m \u001b[0mblock_size\u001b[0m\u001b[0;34m)\u001b[0m\u001b[0;34m\u001b[0m\u001b[0;34m\u001b[0m\u001b[0m\n\u001b[0;32m---> 89\u001b[0;31m             \u001b[0mdata\u001b[0m \u001b[0;34m=\u001b[0m \u001b[0mdsc\u001b[0m\u001b[0;34m.\u001b[0m\u001b[0mprepare_dataset\u001b[0m\u001b[0;34m(\u001b[0m\u001b[0mpaths\u001b[0m\u001b[0;34m,\u001b[0m \u001b[0mblock_size\u001b[0m\u001b[0;34m*\u001b[0m\u001b[0;34m(\u001b[0m\u001b[0mi\u001b[0m\u001b[0;34m+\u001b[0m\u001b[0;36m1\u001b[0m\u001b[0;34m)\u001b[0m\u001b[0;34m,\u001b[0m \u001b[0mds_size\u001b[0m\u001b[0;34m,\u001b[0m \u001b[0mself\u001b[0m\u001b[0;34m.\u001b[0m\u001b[0mdata_dic\u001b[0m\u001b[0;34m)\u001b[0m\u001b[0;34m\u001b[0m\u001b[0;34m\u001b[0m\u001b[0m\n\u001b[0m\u001b[1;32m     90\u001b[0m \u001b[0;34m\u001b[0m\u001b[0m\n\u001b[1;32m     91\u001b[0m             \u001b[0;32mfor\u001b[0m \u001b[0mdata_type\u001b[0m \u001b[0;32min\u001b[0m \u001b[0mself\u001b[0m\u001b[0;34m.\u001b[0m\u001b[0mdata_types\u001b[0m\u001b[0;34m:\u001b[0m\u001b[0;34m\u001b[0m\u001b[0;34m\u001b[0m\u001b[0m\n",
      "\u001b[0;31mNameError\u001b[0m: name 'dsc' is not defined"
     ]
    }
   ],
   "source": [
    "dsc.add_dataset_to_hdf5(block_size=1000, start_index=39280)"
   ]
  },
  {
   "cell_type": "code",
   "execution_count": null,
   "metadata": {},
   "outputs": [],
   "source": [
    "# tamsweg (177)         =     0:39280\n",
    "# bischofshofen (176)   = 39280:74552"
   ]
  },
  {
   "cell_type": "code",
   "execution_count": null,
   "metadata": {},
   "outputs": [],
   "source": [
    "# calc stats"
   ]
  },
  {
   "cell_type": "code",
   "execution_count": 1,
   "metadata": {},
   "outputs": [],
   "source": [
    "from DatasetCreation import DatasetStats\n",
    "import numpy as np\n",
    "import h5py"
   ]
  },
  {
   "cell_type": "code",
   "execution_count": 2,
   "metadata": {},
   "outputs": [],
   "source": [
    "stats = DatasetStats('/media/philipp/DATA/2018_tamsweg/')"
   ]
  },
  {
   "cell_type": "code",
   "execution_count": 3,
   "metadata": {},
   "outputs": [],
   "source": [
    "path_hdf5 = '/media/philipp/DATA/dataset/dataset_256_df_1.h5'\n",
    "hdf5_ds = h5py.File(path_hdf5, 'r')"
   ]
  },
  {
   "cell_type": "code",
   "execution_count": 5,
   "metadata": {},
   "outputs": [
    {
     "name": "stdout",
     "output_type": "stream",
     "text": [
      "[1281.435025217298]\n",
      "[314.3229959492675]\n"
     ]
    }
   ],
   "source": [
    "data_type='dtm'\n",
    "start = 0\n",
    "end = 74552\n",
    "\n",
    "mean = stats.calc_mean(dset=hdf5_ds, data_type=data_type, start_index=start, end_index=end, block_size=10000, bands=1)\n",
    "print(mean)\n",
    "std = stats.calc_std(mean, dset=hdf5_ds, data_type=data_type, start=start, end=end, block_size=10000, bands=1, scaler=1000)\n",
    "print(std)"
   ]
  },
  {
   "cell_type": "code",
   "execution_count": 6,
   "metadata": {},
   "outputs": [
    {
     "data": {
      "text/plain": [
       "<HDF5 dataset \"dsm\": shape (75000, 256, 256, 1), type \"<f2\">"
      ]
     },
     "execution_count": 6,
     "metadata": {},
     "output_type": "execute_result"
    }
   ],
   "source": [
    "hdf5_ds['dsm']"
   ]
  },
  {
   "cell_type": "code",
   "execution_count": null,
   "metadata": {},
   "outputs": [],
   "source": []
  },
  {
   "cell_type": "code",
   "execution_count": 16,
   "metadata": {},
   "outputs": [],
   "source": [
    "path_hdf5 = '/home/philipp/Data/edin_dataset/dataset_test_2.h5'\n",
    "with h5py.File(path_hdf5, 'a') as hdf5_ds:\n",
    "    hdf5_ds['x_ortho'].attrs['mean'] = np.array([13.807993078656509])\n",
    "    hdf5_ds['x_ortho'].attrs['std'] = [10.449318123686943]"
   ]
  },
  {
   "cell_type": "code",
   "execution_count": 17,
   "metadata": {},
   "outputs": [],
   "source": [
    "path_hdf5 = '/home/philipp/Data/edin_dataset/dataset_test_2.h5'\n",
    "hdf5_ds = h5py.File(path_hdf5, 'r')"
   ]
  },
  {
   "cell_type": "code",
   "execution_count": 18,
   "metadata": {},
   "outputs": [
    {
     "data": {
      "text/plain": [
       "<KeysViewHDF5 ['x_ortho']>"
      ]
     },
     "execution_count": 18,
     "metadata": {},
     "output_type": "execute_result"
    }
   ],
   "source": [
    "hdf5_ds.keys()"
   ]
  },
  {
   "cell_type": "code",
   "execution_count": 19,
   "metadata": {},
   "outputs": [
    {
     "data": {
      "text/plain": [
       "<KeysViewHDF5 ['mean', 'std']>"
      ]
     },
     "execution_count": 19,
     "metadata": {},
     "output_type": "execute_result"
    }
   ],
   "source": [
    "hdf5_ds['x_ortho'].attrs.keys()"
   ]
  },
  {
   "cell_type": "code",
   "execution_count": 20,
   "metadata": {},
   "outputs": [
    {
     "data": {
      "text/plain": [
       "array([13.80799308])"
      ]
     },
     "execution_count": 20,
     "metadata": {},
     "output_type": "execute_result"
    }
   ],
   "source": [
    "hdf5_ds['x_ortho'].attrs['mean']"
   ]
  },
  {
   "cell_type": "code",
   "execution_count": 21,
   "metadata": {},
   "outputs": [
    {
     "data": {
      "text/plain": [
       "array([10.44931812])"
      ]
     },
     "execution_count": 21,
     "metadata": {},
     "output_type": "execute_result"
    }
   ],
   "source": [
    "hdf5_ds['x_ortho'].attrs['std']"
   ]
  },
  {
   "cell_type": "code",
   "execution_count": 22,
   "metadata": {},
   "outputs": [],
   "source": [
    "hdf5_ds.close()"
   ]
  },
  {
   "cell_type": "code",
   "execution_count": null,
   "metadata": {},
   "outputs": [],
   "source": []
  },
  {
   "cell_type": "code",
   "execution_count": null,
   "metadata": {},
   "outputs": [],
   "source": []
  },
  {
   "cell_type": "code",
   "execution_count": null,
   "metadata": {},
   "outputs": [],
   "source": [
    "mean_dsm = [13.807993078656509]\n",
    "std_dsm = [10.449318123686943]\n",
    "\n",
    "mean_dtm = []\n",
    "std_dtm = []\n",
    "\n",
    "mean_slope = [21.550225010730767]\n",
    "std_slope = [11.841692292433436]"
   ]
  },
  {
   "cell_type": "code",
   "execution_count": null,
   "metadata": {},
   "outputs": [],
   "source": []
  },
  {
   "cell_type": "code",
   "execution_count": null,
   "metadata": {},
   "outputs": [],
   "source": [
    "### end ###"
   ]
  },
  {
   "cell_type": "code",
   "execution_count": 1,
   "metadata": {},
   "outputs": [],
   "source": [
    "import numpy as np\n",
    "import pandas as pd\n",
    "import h5py\n",
    "\n",
    "from osgeo import gdal\n",
    "from osgeo import gdal_array\n",
    "from osgeo import osr\n",
    "from osgeo import gdalconst\n",
    "\n",
    "from glob import glob\n",
    "import logging\n",
    "import os\n",
    "\n",
    "from DatasetCreation import DatasetCreation"
   ]
  },
  {
   "cell_type": "code",
   "execution_count": 2,
   "metadata": {},
   "outputs": [],
   "source": [
    "data_dic = {'ortho':{'dtype':np.uint8, 'dim':4}, \\\n",
    "              'dsm':{'dtype':np.float16, 'dim':1}, \\\n",
    "              'dtm':{'dtype':np.float16, 'dim':1}, \\\n",
    "              'slope':{'dtype':np.float16, 'dim':1}, \\\n",
    "              'ground_truth':{'dtype':np.uint8, 'dim':1}}\n",
    "\n",
    "data_types = ['ortho', 'dsm', 'dtm', 'slope', 'ground_truth']\n",
    "\n",
    "tile_size = 256\n",
    "\n",
    "dataset_size = 40000\n",
    "\n",
    "block_size = 1000"
   ]
  },
  {
   "cell_type": "code",
   "execution_count": 3,
   "metadata": {},
   "outputs": [],
   "source": [
    "dsc = DatasetCreation('/media/philipp/DATA/2018_tamsweg/')"
   ]
  },
  {
   "cell_type": "code",
   "execution_count": 9,
   "metadata": {},
   "outputs": [],
   "source": [
    "paths = dsc.find_files('/media/philipp/DATA/2018_bischofshofen/', ['ortho', 'dsm', 'dtm', 'slope', 'ground_truth'])"
   ]
  },
  {
   "cell_type": "code",
   "execution_count": 6,
   "metadata": {},
   "outputs": [
    {
     "data": {
      "text/plain": [
       "\"\\npath_hdf5 = '/media/philipp/DATA/dataset/dataset_df_0.h5'\\n\\nhdf5_ds = h5py.File(path_hdf5, 'a')\\n\\nfor data_type in data_types:\\n    x = hdf5_ds.create_dataset(data_type,     (dataset_size, tile_size, tile_size, data_dic[data_type]['dim']),     dtype=data_dic[data_type]['dtype'])\\nhdf5_ds.close()\\n\""
      ]
     },
     "execution_count": 6,
     "metadata": {},
     "output_type": "execute_result"
    }
   ],
   "source": [
    "\"\"\"\n",
    "path_hdf5 = '/media/philipp/DATA/dataset/dataset_df_0.h5'\n",
    "\n",
    "hdf5_ds = h5py.File(path_hdf5, 'a')\n",
    "\n",
    "for data_type in data_types:\n",
    "    x = hdf5_ds.create_dataset(data_type, \\\n",
    "    (dataset_size, tile_size, tile_size, data_dic[data_type]['dim']), \\\n",
    "    dtype=data_dic[data_type]['dtype'])\n",
    "hdf5_ds.close()\n",
    "\"\"\""
   ]
  },
  {
   "cell_type": "code",
   "execution_count": 4,
   "metadata": {},
   "outputs": [],
   "source": [
    "path_hdf5 = '/media/philipp/DATA/dataset/dataset_256_df_1.h5'\n",
    "hdf5_ds = h5py.File(path_hdf5, 'a')"
   ]
  },
  {
   "cell_type": "code",
   "execution_count": 5,
   "metadata": {},
   "outputs": [
    {
     "data": {
      "text/plain": [
       "<HDF5 dataset \"dsm\": shape (75000, 256, 256, 1), type \"<f2\">"
      ]
     },
     "execution_count": 5,
     "metadata": {},
     "output_type": "execute_result"
    }
   ],
   "source": [
    "hdf5_ds['dsm']"
   ]
  },
  {
   "cell_type": "code",
   "execution_count": 12,
   "metadata": {},
   "outputs": [
    {
     "name": "stdout",
     "output_type": "stream",
     "text": [
      "9135\n"
     ]
    }
   ],
   "source": [
    "ds_size = len(paths[list(paths.keys())[0]])\n",
    "print(ds_size)"
   ]
  },
  {
   "cell_type": "code",
   "execution_count": 11,
   "metadata": {
    "scrolled": true
   },
   "outputs": [
    {
     "name": "stdout",
     "output_type": "stream",
     "text": [
      "0 1000\n",
      "(1000, 512, 512, 4)\n",
      "(1000, 512, 512, 1)\n",
      "(1000, 512, 512, 1)\n",
      "(1000, 512, 512, 1)\n",
      "(1000, 512, 512, 1)\n",
      "3662\n",
      "1000 2000\n",
      "(1000, 512, 512, 4)\n",
      "(1000, 512, 512, 1)\n",
      "(1000, 512, 512, 1)\n",
      "(1000, 512, 512, 1)\n",
      "(1000, 512, 512, 1)\n",
      "7345\n",
      "2000 3000\n",
      "(1000, 512, 512, 4)\n",
      "(1000, 512, 512, 1)\n",
      "(1000, 512, 512, 1)\n",
      "(1000, 512, 512, 1)\n",
      "(1000, 512, 512, 1)\n",
      "11043\n",
      "3000 4000\n",
      "(1000, 512, 512, 4)\n",
      "(1000, 512, 512, 1)\n",
      "(1000, 512, 512, 1)\n",
      "(1000, 512, 512, 1)\n",
      "(1000, 512, 512, 1)\n",
      "14701\n",
      "4000 5000\n",
      "(1000, 512, 512, 4)\n",
      "(1000, 512, 512, 1)\n",
      "(1000, 512, 512, 1)\n",
      "(1000, 512, 512, 1)\n",
      "(1000, 512, 512, 1)\n",
      "18353\n",
      "5000 6000\n",
      "(1000, 512, 512, 4)\n",
      "(1000, 512, 512, 1)\n",
      "(1000, 512, 512, 1)\n",
      "(1000, 512, 512, 1)\n",
      "(1000, 512, 512, 1)\n",
      "22033\n",
      "6000 7000\n",
      "(1000, 512, 512, 4)\n",
      "(1000, 512, 512, 1)\n",
      "(1000, 512, 512, 1)\n",
      "(1000, 512, 512, 1)\n",
      "(1000, 512, 512, 1)\n",
      "25702\n",
      "7000 8000\n",
      "(1000, 512, 512, 4)\n",
      "(1000, 512, 512, 1)\n",
      "(1000, 512, 512, 1)\n",
      "(1000, 512, 512, 1)\n",
      "(1000, 512, 512, 1)\n",
      "29366\n",
      "8000 9000\n",
      "(1000, 512, 512, 4)\n",
      "(1000, 512, 512, 1)\n",
      "(1000, 512, 512, 1)\n",
      "(1000, 512, 512, 1)\n",
      "(1000, 512, 512, 1)\n",
      "33056\n",
      "9000 10000\n",
      "(1000, 512, 512, 4)\n",
      "(1000, 512, 512, 1)\n",
      "(1000, 512, 512, 1)\n",
      "(1000, 512, 512, 1)\n",
      "(1000, 512, 512, 1)\n",
      "36759\n",
      "10000 10679\n"
     ]
    }
   ],
   "source": [
    "if ds_size > block_size:\n",
    "    counter = 0\n",
    "    for i in range(ds_size // block_size):\n",
    "\n",
    "        print(block_size*i, block_size*(i+1))\n",
    "\n",
    "        data = dsc.prepare_dataset(paths, block_size*i, block_size*(i+1), data_dic)\n",
    "\n",
    "        for data_type in data_types:\n",
    "            # set dataset\n",
    "            x = hdf5_ds[data_type]\n",
    "            # assign data\n",
    "            x[counter:counter+data[data_type].shape[0],:,:,:] = data[data_type]\n",
    "            \n",
    "        counter += data[data_type].shape[0]\n",
    "        print(counter)\n",
    "\n",
    "    print(block_size*(i+1), block_size*(i+1) + ds_size % block_size)"
   ]
  },
  {
   "cell_type": "code",
   "execution_count": 13,
   "metadata": {},
   "outputs": [
    {
     "name": "stdout",
     "output_type": "stream",
     "text": [
      "(135, 512, 512, 4)\n",
      "(135, 512, 512, 1)\n",
      "(135, 512, 512, 1)\n",
      "(135, 512, 512, 1)\n",
      "(135, 512, 512, 1)\n",
      "74552\n"
     ]
    }
   ],
   "source": [
    "data = dsc.prepare_dataset(paths, 9000, 9135, data_dic)\n",
    "counter = 74038\n",
    "\n",
    "for data_type in dsc.data_types:\n",
    "    # set dataset\n",
    "    x = hdf5_ds[data_type]\n",
    "    # assign data\n",
    "    x[counter:counter+data[data_type].shape[0],:,:,:] = data[data_type]\n",
    "\n",
    "counter += data[data_type].shape[0]\n",
    "print(counter)"
   ]
  },
  {
   "cell_type": "code",
   "execution_count": 18,
   "metadata": {},
   "outputs": [
    {
     "data": {
      "text/plain": [
       "array([[[0, 0, 0, 0],\n",
       "        [0, 0, 0, 0],\n",
       "        [0, 0, 0, 0],\n",
       "        ...,\n",
       "        [0, 0, 0, 0],\n",
       "        [0, 0, 0, 0],\n",
       "        [0, 0, 0, 0]],\n",
       "\n",
       "       [[0, 0, 0, 0],\n",
       "        [0, 0, 0, 0],\n",
       "        [0, 0, 0, 0],\n",
       "        ...,\n",
       "        [0, 0, 0, 0],\n",
       "        [0, 0, 0, 0],\n",
       "        [0, 0, 0, 0]],\n",
       "\n",
       "       [[0, 0, 0, 0],\n",
       "        [0, 0, 0, 0],\n",
       "        [0, 0, 0, 0],\n",
       "        ...,\n",
       "        [0, 0, 0, 0],\n",
       "        [0, 0, 0, 0],\n",
       "        [0, 0, 0, 0]],\n",
       "\n",
       "       ...,\n",
       "\n",
       "       [[0, 0, 0, 0],\n",
       "        [0, 0, 0, 0],\n",
       "        [0, 0, 0, 0],\n",
       "        ...,\n",
       "        [0, 0, 0, 0],\n",
       "        [0, 0, 0, 0],\n",
       "        [0, 0, 0, 0]],\n",
       "\n",
       "       [[0, 0, 0, 0],\n",
       "        [0, 0, 0, 0],\n",
       "        [0, 0, 0, 0],\n",
       "        ...,\n",
       "        [0, 0, 0, 0],\n",
       "        [0, 0, 0, 0],\n",
       "        [0, 0, 0, 0]],\n",
       "\n",
       "       [[0, 0, 0, 0],\n",
       "        [0, 0, 0, 0],\n",
       "        [0, 0, 0, 0],\n",
       "        ...,\n",
       "        [0, 0, 0, 0],\n",
       "        [0, 0, 0, 0],\n",
       "        [0, 0, 0, 0]]], dtype=uint8)"
      ]
     },
     "execution_count": 18,
     "metadata": {},
     "output_type": "execute_result"
    }
   ],
   "source": [
    "hdf5_ds['ortho'][74552]"
   ]
  },
  {
   "cell_type": "code",
   "execution_count": 6,
   "metadata": {},
   "outputs": [],
   "source": [
    "hdf5_ds.close()"
   ]
  },
  {
   "cell_type": "code",
   "execution_count": null,
   "metadata": {},
   "outputs": [],
   "source": []
  }
 ],
 "metadata": {
  "kernelspec": {
   "display_name": "geo",
   "language": "python",
   "name": "geo"
  },
  "language_info": {
   "codemirror_mode": {
    "name": "ipython",
    "version": 3
   },
   "file_extension": ".py",
   "mimetype": "text/x-python",
   "name": "python",
   "nbconvert_exporter": "python",
   "pygments_lexer": "ipython3",
   "version": "3.8.2"
  }
 },
 "nbformat": 4,
 "nbformat_minor": 4
}
