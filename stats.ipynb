{
 "cells": [
  {
   "cell_type": "code",
   "execution_count": 9,
   "metadata": {},
   "outputs": [],
   "source": [
    "import geopandas"
   ]
  },
  {
   "cell_type": "code",
   "execution_count": 10,
   "metadata": {},
   "outputs": [],
   "source": [
    "# calculate weights "
   ]
  },
  {
   "cell_type": "code",
   "execution_count": 11,
   "metadata": {},
   "outputs": [],
   "source": [
    "stats = geopandas.read_file('/home/philipp/Data/edin_diss/GIS_ground_truth/df_2020_2/gis_df_wwie_2020_177.shp')"
   ]
  },
  {
   "cell_type": "code",
   "execution_count": 12,
   "metadata": {},
   "outputs": [
    {
     "data": {
      "text/plain": [
       "Index(['fb', 'fr', 'abt', 'uabt', 'teilfl', 'admin', 'length', 'area',\n",
       "       'fly_date', 'year_fly', 'WO', 'fb_sap', 'fr_sap', 'abt_sap', 'uabt_sap',\n",
       "       'teilfl_sap', 'start_term', 'uz', 'non_forest', 'economy', 'ww_sw',\n",
       "       'sw_type', 'sea_level', 'exp', 'slope', 'site_type', 'veg_type',\n",
       "       'growth_are', 'age', 'BL', 'FI', 'LH', 'NH', 'LA', 'KI', 'DG', 'SK',\n",
       "       'mass_ha', 'mass_ha_lh', 'mass_ha_nh', 'mass_tot', 'mass_tot_l',\n",
       "       'mass_tot_n', 'cut_area', 'cut_lh', 'cut_nh', 'cut_sum', 'dr', 'bp',\n",
       "       'zp', 'ru', 'sg', 'ma', 'year_fe', 'age_diff', 'fly_y', 'fly_m',\n",
       "       'fly_d', 'cut_ma', 'cut_v_lh', 'cut_v_nh', 'cut_v_nan', 'cut_v_tot',\n",
       "       'typ', 'geometry'],\n",
       "      dtype='object')"
      ]
     },
     "execution_count": 12,
     "metadata": {},
     "output_type": "execute_result"
    }
   ],
   "source": [
    "stats.columns"
   ]
  },
  {
   "cell_type": "code",
   "execution_count": 13,
   "metadata": {},
   "outputs": [],
   "source": [
    "stats = stats[stats['ww_sw']=='W']"
   ]
  },
  {
   "cell_type": "code",
   "execution_count": 14,
   "metadata": {},
   "outputs": [],
   "source": [
    "stats = stats[['typ', 'area', 'geometry']]"
   ]
  },
  {
   "cell_type": "code",
   "execution_count": 15,
   "metadata": {},
   "outputs": [
    {
     "data": {
      "text/html": [
       "<div>\n",
       "<style scoped>\n",
       "    .dataframe tbody tr th:only-of-type {\n",
       "        vertical-align: middle;\n",
       "    }\n",
       "\n",
       "    .dataframe tbody tr th {\n",
       "        vertical-align: top;\n",
       "    }\n",
       "\n",
       "    .dataframe thead th {\n",
       "        text-align: right;\n",
       "    }\n",
       "</style>\n",
       "<table border=\"1\" class=\"dataframe\">\n",
       "  <thead>\n",
       "    <tr style=\"text-align: right;\">\n",
       "      <th></th>\n",
       "      <th>typ</th>\n",
       "      <th>area</th>\n",
       "      <th>geometry</th>\n",
       "    </tr>\n",
       "  </thead>\n",
       "  <tbody>\n",
       "    <tr>\n",
       "      <th>0</th>\n",
       "      <td>2</td>\n",
       "      <td>17171.469012</td>\n",
       "      <td>POLYGON ((448743.510 361073.725, 448760.100 36...</td>\n",
       "    </tr>\n",
       "    <tr>\n",
       "      <th>1</th>\n",
       "      <td>2</td>\n",
       "      <td>15887.334816</td>\n",
       "      <td>POLYGON ((448527.110 361004.735, 448537.420 36...</td>\n",
       "    </tr>\n",
       "    <tr>\n",
       "      <th>2</th>\n",
       "      <td>2</td>\n",
       "      <td>24672.718591</td>\n",
       "      <td>POLYGON ((448616.450 361013.175, 448639.260 36...</td>\n",
       "    </tr>\n",
       "    <tr>\n",
       "      <th>23</th>\n",
       "      <td>2</td>\n",
       "      <td>14071.357927</td>\n",
       "      <td>POLYGON ((448935.506 359812.860, 448940.098 35...</td>\n",
       "    </tr>\n",
       "    <tr>\n",
       "      <th>24</th>\n",
       "      <td>2</td>\n",
       "      <td>1866.074916</td>\n",
       "      <td>POLYGON ((448690.458 359869.425, 448701.328 35...</td>\n",
       "    </tr>\n",
       "    <tr>\n",
       "      <th>...</th>\n",
       "      <td>...</td>\n",
       "      <td>...</td>\n",
       "      <td>...</td>\n",
       "    </tr>\n",
       "    <tr>\n",
       "      <th>14220</th>\n",
       "      <td>2</td>\n",
       "      <td>4269.239334</td>\n",
       "      <td>POLYGON ((421030.108 356125.818, 421027.113 35...</td>\n",
       "    </tr>\n",
       "    <tr>\n",
       "      <th>14221</th>\n",
       "      <td>2</td>\n",
       "      <td>839.592059</td>\n",
       "      <td>POLYGON ((421183.505 356181.671, 421170.919 35...</td>\n",
       "    </tr>\n",
       "    <tr>\n",
       "      <th>14222</th>\n",
       "      <td>2</td>\n",
       "      <td>1891.298439</td>\n",
       "      <td>POLYGON ((421172.934 356218.341, 421152.754 35...</td>\n",
       "    </tr>\n",
       "    <tr>\n",
       "      <th>14223</th>\n",
       "      <td>1</td>\n",
       "      <td>21240.704315</td>\n",
       "      <td>POLYGON ((421169.544 356238.927, 421154.268 35...</td>\n",
       "    </tr>\n",
       "    <tr>\n",
       "      <th>14224</th>\n",
       "      <td>1</td>\n",
       "      <td>5965.513124</td>\n",
       "      <td>POLYGON ((421337.526 356509.873, 421346.406 35...</td>\n",
       "    </tr>\n",
       "  </tbody>\n",
       "</table>\n",
       "<p>9026 rows × 3 columns</p>\n",
       "</div>"
      ],
      "text/plain": [
       "       typ          area                                           geometry\n",
       "0        2  17171.469012  POLYGON ((448743.510 361073.725, 448760.100 36...\n",
       "1        2  15887.334816  POLYGON ((448527.110 361004.735, 448537.420 36...\n",
       "2        2  24672.718591  POLYGON ((448616.450 361013.175, 448639.260 36...\n",
       "23       2  14071.357927  POLYGON ((448935.506 359812.860, 448940.098 35...\n",
       "24       2   1866.074916  POLYGON ((448690.458 359869.425, 448701.328 35...\n",
       "...    ...           ...                                                ...\n",
       "14220    2   4269.239334  POLYGON ((421030.108 356125.818, 421027.113 35...\n",
       "14221    2    839.592059  POLYGON ((421183.505 356181.671, 421170.919 35...\n",
       "14222    2   1891.298439  POLYGON ((421172.934 356218.341, 421152.754 35...\n",
       "14223    1  21240.704315  POLYGON ((421169.544 356238.927, 421154.268 35...\n",
       "14224    1   5965.513124  POLYGON ((421337.526 356509.873, 421346.406 35...\n",
       "\n",
       "[9026 rows x 3 columns]"
      ]
     },
     "execution_count": 15,
     "metadata": {},
     "output_type": "execute_result"
    }
   ],
   "source": [
    "stats"
   ]
  },
  {
   "cell_type": "code",
   "execution_count": null,
   "metadata": {},
   "outputs": [],
   "source": []
  },
  {
   "cell_type": "code",
   "execution_count": 16,
   "metadata": {},
   "outputs": [],
   "source": [
    "x = stats.groupby(['typ']).sum()\n",
    "x['percent'] = x['area'] / x['area'].sum()"
   ]
  },
  {
   "cell_type": "code",
   "execution_count": 17,
   "metadata": {},
   "outputs": [
    {
     "data": {
      "text/html": [
       "<div>\n",
       "<style scoped>\n",
       "    .dataframe tbody tr th:only-of-type {\n",
       "        vertical-align: middle;\n",
       "    }\n",
       "\n",
       "    .dataframe tbody tr th {\n",
       "        vertical-align: top;\n",
       "    }\n",
       "\n",
       "    .dataframe thead th {\n",
       "        text-align: right;\n",
       "    }\n",
       "</style>\n",
       "<table border=\"1\" class=\"dataframe\">\n",
       "  <thead>\n",
       "    <tr style=\"text-align: right;\">\n",
       "      <th></th>\n",
       "      <th>area</th>\n",
       "      <th>percent</th>\n",
       "    </tr>\n",
       "    <tr>\n",
       "      <th>typ</th>\n",
       "      <th></th>\n",
       "      <th></th>\n",
       "    </tr>\n",
       "  </thead>\n",
       "  <tbody>\n",
       "    <tr>\n",
       "      <th>1</th>\n",
       "      <td>2.371672e+07</td>\n",
       "      <td>0.253399</td>\n",
       "    </tr>\n",
       "    <tr>\n",
       "      <th>2</th>\n",
       "      <td>6.987781e+07</td>\n",
       "      <td>0.746601</td>\n",
       "    </tr>\n",
       "  </tbody>\n",
       "</table>\n",
       "</div>"
      ],
      "text/plain": [
       "             area   percent\n",
       "typ                        \n",
       "1    2.371672e+07  0.253399\n",
       "2    6.987781e+07  0.746601"
      ]
     },
     "execution_count": 17,
     "metadata": {},
     "output_type": "execute_result"
    }
   ],
   "source": [
    "x"
   ]
  },
  {
   "cell_type": "code",
   "execution_count": null,
   "metadata": {},
   "outputs": [],
   "source": []
  },
  {
   "cell_type": "code",
   "execution_count": null,
   "metadata": {},
   "outputs": [],
   "source": []
  }
 ],
 "metadata": {
  "kernelspec": {
   "display_name": "geopd",
   "language": "python",
   "name": "geopd"
  },
  "language_info": {
   "codemirror_mode": {
    "name": "ipython",
    "version": 3
   },
   "file_extension": ".py",
   "mimetype": "text/x-python",
   "name": "python",
   "nbconvert_exporter": "python",
   "pygments_lexer": "ipython3",
   "version": "3.7.7"
  }
 },
 "nbformat": 4,
 "nbformat_minor": 4
}
